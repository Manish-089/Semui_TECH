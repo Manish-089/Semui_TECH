{
  "nbformat": 4,
  "nbformat_minor": 0,
  "metadata": {
    "colab": {
      "provenance": []
    },
    "kernelspec": {
      "name": "python3",
      "display_name": "Python 3"
    },
    "language_info": {
      "name": "python"
    }
  },
  "cells": [
    {
      "cell_type": "code",
      "source": [
        "pip install pandas scikit-learn flask\n"
      ],
      "metadata": {
        "colab": {
          "base_uri": "https://localhost:8080/"
        },
        "id": "aZ8I3jiLG8kp",
        "outputId": "66fe62d4-1242-4ad3-b7f6-6c8b9d038d46"
      },
      "execution_count": null,
      "outputs": [
        {
          "output_type": "stream",
          "name": "stdout",
          "text": [
            "Requirement already satisfied: pandas in /usr/local/lib/python3.10/dist-packages (2.2.2)\n",
            "Requirement already satisfied: scikit-learn in /usr/local/lib/python3.10/dist-packages (1.5.2)\n",
            "Requirement already satisfied: flask in /usr/local/lib/python3.10/dist-packages (3.0.3)\n",
            "Requirement already satisfied: numpy>=1.22.4 in /usr/local/lib/python3.10/dist-packages (from pandas) (1.26.4)\n",
            "Requirement already satisfied: python-dateutil>=2.8.2 in /usr/local/lib/python3.10/dist-packages (from pandas) (2.8.2)\n",
            "Requirement already satisfied: pytz>=2020.1 in /usr/local/lib/python3.10/dist-packages (from pandas) (2024.2)\n",
            "Requirement already satisfied: tzdata>=2022.7 in /usr/local/lib/python3.10/dist-packages (from pandas) (2024.2)\n",
            "Requirement already satisfied: scipy>=1.6.0 in /usr/local/lib/python3.10/dist-packages (from scikit-learn) (1.13.1)\n",
            "Requirement already satisfied: joblib>=1.2.0 in /usr/local/lib/python3.10/dist-packages (from scikit-learn) (1.4.2)\n",
            "Requirement already satisfied: threadpoolctl>=3.1.0 in /usr/local/lib/python3.10/dist-packages (from scikit-learn) (3.5.0)\n",
            "Requirement already satisfied: Werkzeug>=3.0.0 in /usr/local/lib/python3.10/dist-packages (from flask) (3.1.3)\n",
            "Requirement already satisfied: Jinja2>=3.1.2 in /usr/local/lib/python3.10/dist-packages (from flask) (3.1.4)\n",
            "Requirement already satisfied: itsdangerous>=2.1.2 in /usr/local/lib/python3.10/dist-packages (from flask) (2.2.0)\n",
            "Requirement already satisfied: click>=8.1.3 in /usr/local/lib/python3.10/dist-packages (from flask) (8.1.7)\n",
            "Requirement already satisfied: blinker>=1.6.2 in /usr/local/lib/python3.10/dist-packages (from flask) (1.9.0)\n",
            "Requirement already satisfied: MarkupSafe>=2.0 in /usr/local/lib/python3.10/dist-packages (from Jinja2>=3.1.2->flask) (3.0.2)\n",
            "Requirement already satisfied: six>=1.5 in /usr/local/lib/python3.10/dist-packages (from python-dateutil>=2.8.2->pandas) (1.16.0)\n"
          ]
        }
      ]
    },
    {
      "cell_type": "code",
      "source": [
        "import pandas as pd\n",
        "from sklearn.preprocessing import StandardScaler\n",
        "from sklearn.ensemble import RandomForestClassifier\n",
        "from sklearn.metrics import classification_report, accuracy_score\n",
        "from flask import Flask, request, jsonify\n",
        "import os\n"
      ],
      "metadata": {
        "id": "0T8VP1ibHJoL"
      },
      "execution_count": null,
      "outputs": []
    },
    {
      "cell_type": "code",
      "source": [
        "from google.colab import drive\n",
        "drive.mount('/content/drive')"
      ],
      "metadata": {
        "colab": {
          "base_uri": "https://localhost:8080/"
        },
        "id": "CFvBZx9FInWN",
        "outputId": "d403f2bd-dffb-4151-b9b8-084b18b41b2e"
      },
      "execution_count": null,
      "outputs": [
        {
          "output_type": "stream",
          "name": "stdout",
          "text": [
            "Drive already mounted at /content/drive; to attempt to forcibly remount, call drive.mount(\"/content/drive\", force_remount=True).\n"
          ]
        }
      ]
    },
    {
      "cell_type": "code",
      "source": [
        "dataset_path = '/content/drive/MyDrive/dataset/human+activity+recognition+using+smartphones/UCI HAR Dataset'"
      ],
      "metadata": {
        "id": "22ytXPIiJPtG"
      },
      "execution_count": null,
      "outputs": []
    },
    {
      "cell_type": "code",
      "execution_count": null,
      "metadata": {
        "id": "WK1ndnKWFxPb"
      },
      "outputs": [],
      "source": [
        "\n",
        "\n",
        "\n",
        "\n",
        "# Load Activity Labels\n",
        "def load_activity_labels(dataset_path):\n",
        "    activity_labels_path = f\"{dataset_path}/activity_labels.txt\"\n",
        "    if not os.path.exists(activity_labels_path):\n",
        "        raise FileNotFoundError(f\"File not found: {activity_labels_path}\")\n",
        "    activity_labels = pd.read_csv(activity_labels_path, header=None, delim_whitespace=True, names=[\"Activity\", \"Label\"])\n",
        "    return dict(zip(activity_labels[\"Activity\"], activity_labels[\"Label\"]))\n",
        "\n",
        "# Load Data\n",
        "def load_data(dataset_path):\n",
        "    # Paths\n",
        "    train_path = f\"{dataset_path}/train\"\n",
        "    test_path = f\"{dataset_path}/test\"\n",
        "    features_path = f\"{dataset_path}/features.txt\"\n",
        "\n",
        "    # Check if files exist\n",
        "    for path in [features_path, train_path, test_path]:\n",
        "        if not os.path.exists(path):\n",
        "            raise FileNotFoundError(f\"File or directory not found: {path}\")\n",
        "\n",
        "    activity_labels = load_activity_labels(dataset_path)\n",
        "\n",
        "    # Load Features\n",
        "    features = pd.read_csv(features_path, header=None, delim_whitespace=True, names=[\"Index\", \"FeatureName\"])\n",
        "    feature_names = features[\"FeatureName\"].tolist()\n",
        "\n",
        "    # Load Training Data\n",
        "    subject_train = pd.read_csv(f\"{train_path}/subject_train.txt\", header=None, names=[\"Subject\"])\n",
        "    y_train = pd.read_csv(f\"{train_path}/y_train.txt\", header=None, names=[\"Activity\"])\n",
        "    X_train = pd.read_csv(f\"{train_path}/X_train.txt\", header=None, delim_whitespace=True)\n",
        "    X_train.columns = feature_names\n",
        "    y_train[\"Activity\"] = y_train[\"Activity\"].map(activity_labels)\n",
        "\n",
        "    # Load Test Data\n",
        "    subject_test = pd.read_csv(f\"{test_path}/subject_test.txt\", header=None, names=[\"Subject\"])\n",
        "    y_test = pd.read_csv(f\"{test_path}/y_test.txt\", header=None, names=[\"Activity\"])\n",
        "    X_test = pd.read_csv(f\"{test_path}/X_test.txt\", header=None, delim_whitespace=True)\n",
        "    X_test.columns = feature_names\n",
        "    y_test[\"Activity\"] = y_test[\"Activity\"].map(activity_labels)\n",
        "\n",
        "    # Combine Data\n",
        "    train_data = pd.concat([subject_train, y_train, X_train], axis=1)\n",
        "    test_data = pd.concat([subject_test, y_test, X_test], axis=1)\n",
        "\n",
        "    return train_data, test_data\n",
        "\n",
        "# Prepare Data\n",
        "def prepare_data(train_data, test_data):\n",
        "    X_train = train_data.iloc[:, 2:]\n",
        "    y_train = train_data[\"Activity\"]\n",
        "    X_test = test_data.iloc[:, 2:]\n",
        "    y_test = test_data[\"Activity\"]\n",
        "\n",
        "    scaler = StandardScaler()\n",
        "    X_train_scaled = scaler.fit_transform(X_train)\n",
        "    X_test_scaled = scaler.transform(X_test)\n",
        "\n",
        "    return X_train_scaled, y_train, X_test_scaled, y_test, scaler\n",
        "\n",
        "# Train Model\n",
        "def train_model(X_train, y_train):\n",
        "    model = RandomForestClassifier(n_estimators=100, random_state=42)\n",
        "    model.fit(X_train, y_train)\n",
        "    return model\n",
        "\n",
        "# Evaluate Model\n",
        "def evaluate_model(model, X_test, y_test):\n",
        "    y_pred = model.predict(X_test)\n",
        "    accuracy = accuracy_score(y_test, y_pred)\n",
        "    report = classification_report(y_test, y_pred)\n",
        "    return accuracy, report\n",
        "\n",
        "\n"
      ]
    },
    {
      "cell_type": "code",
      "source": [
        "if __name__ == \"__main__\":\n",
        "    # Load and Prepare Data\n",
        "    train_data, test_data = load_data(dataset_path)\n",
        "    X_train, y_train, X_test, y_test, scaler = prepare_data(train_data, test_data)\n",
        "\n",
        "    # Train Model\n",
        "    model = train_model(X_train, y_train)\n",
        "\n",
        "    # Evaluate Model\n",
        "    accuracy, report = evaluate_model(model, X_test, y_test)\n",
        "    print(f\"Model Accuracy: {accuracy:.2f}\")\n",
        "    print(f\"Classification Report:\\n{report}\")"
      ],
      "metadata": {
        "colab": {
          "base_uri": "https://localhost:8080/"
        },
        "id": "dsoDMARFGvPl",
        "outputId": "09a38494-29b0-4184-8af8-b6505a2f8def"
      },
      "execution_count": null,
      "outputs": [
        {
          "output_type": "stream",
          "name": "stderr",
          "text": [
            "<ipython-input-5-62b56e64c903>:6: FutureWarning: The 'delim_whitespace' keyword in pd.read_csv is deprecated and will be removed in a future version. Use ``sep='\\s+'`` instead\n",
            "  activity_labels = pd.read_csv(activity_labels_path, header=None, delim_whitespace=True, names=[\"Activity\", \"Label\"])\n",
            "<ipython-input-5-62b56e64c903>:24: FutureWarning: The 'delim_whitespace' keyword in pd.read_csv is deprecated and will be removed in a future version. Use ``sep='\\s+'`` instead\n",
            "  features = pd.read_csv(features_path, header=None, delim_whitespace=True, names=[\"Index\", \"FeatureName\"])\n",
            "<ipython-input-5-62b56e64c903>:30: FutureWarning: The 'delim_whitespace' keyword in pd.read_csv is deprecated and will be removed in a future version. Use ``sep='\\s+'`` instead\n",
            "  X_train = pd.read_csv(f\"{train_path}/X_train.txt\", header=None, delim_whitespace=True)\n",
            "<ipython-input-5-62b56e64c903>:37: FutureWarning: The 'delim_whitespace' keyword in pd.read_csv is deprecated and will be removed in a future version. Use ``sep='\\s+'`` instead\n",
            "  X_test = pd.read_csv(f\"{test_path}/X_test.txt\", header=None, delim_whitespace=True)\n"
          ]
        },
        {
          "output_type": "stream",
          "name": "stdout",
          "text": [
            "Model Accuracy: 0.93\n",
            "Classification Report:\n",
            "                    precision    recall  f1-score   support\n",
            "\n",
            "            LAYING       1.00      1.00      1.00       537\n",
            "           SITTING       0.91      0.90      0.90       491\n",
            "          STANDING       0.91      0.92      0.91       532\n",
            "           WALKING       0.89      0.97      0.93       496\n",
            "WALKING_DOWNSTAIRS       0.96      0.87      0.91       420\n",
            "  WALKING_UPSTAIRS       0.90      0.89      0.90       471\n",
            "\n",
            "          accuracy                           0.93      2947\n",
            "         macro avg       0.93      0.92      0.93      2947\n",
            "      weighted avg       0.93      0.93      0.93      2947\n",
            "\n"
          ]
        }
      ]
    },
    {
      "cell_type": "code",
      "source": [],
      "metadata": {
        "id": "Gh09ar7IGx6G"
      },
      "execution_count": null,
      "outputs": []
    },
    {
      "cell_type": "code",
      "source": [],
      "metadata": {
        "id": "hTPRTIJkG7oi"
      },
      "execution_count": null,
      "outputs": []
    }
  ]
}